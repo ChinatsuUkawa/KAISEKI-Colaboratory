{
 "cells": [
  {
   "cell_type": "code",
   "execution_count": null,
   "id": "b9c952ca",
   "metadata": {},
   "outputs": [],
   "source": [
    "\n",
    "\n",
    "import pandas as pd\n",
    "\n",
    "print('test github connetciont')\n"
   ]
  }
 ],
 "metadata": {},
 "nbformat": 4,
 "nbformat_minor": 5
}
