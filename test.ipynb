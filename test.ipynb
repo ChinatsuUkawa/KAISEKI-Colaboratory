{
  "cells": [
    {
      "cell_type": "markdown",
      "metadata": {
        "id": "view-in-github",
        "colab_type": "text"
      },
      "source": [
        "<a href=\"https://colab.research.google.com/github/ChinatsuUkawa/KAISEKI-Colaboratory/blob/main/test.ipynb\" target=\"_parent\"><img src=\"https://colab.research.google.com/assets/colab-badge.svg\" alt=\"Open In Colab\"/></a>"
      ]
    },
    {
      "cell_type": "code",
      "execution_count": 2,
      "id": "b9c952ca",
      "metadata": {
        "id": "b9c952ca",
        "outputId": "58a007e4-d5dd-494f-8b20-c10d14a9311c",
        "colab": {
          "base_uri": "https://localhost:8080/"
        }
      },
      "outputs": [
        {
          "output_type": "stream",
          "name": "stdout",
          "text": [
            "test github connetciont\n"
          ]
        }
      ],
      "source": [
        "import pandas as pd\n",
        "import numpy as np\n",
        "\n"
      ]
    },
    {
      "cell_type": "code",
      "source": [
        "print('test github connetciont')"
      ],
      "metadata": {
        "id": "M0QTgoXhKqCI",
        "outputId": "f88c967c-c8a0-49a1-9f8c-281f3b9be48e",
        "colab": {
          "base_uri": "https://localhost:8080/"
        }
      },
      "id": "M0QTgoXhKqCI",
      "execution_count": 3,
      "outputs": [
        {
          "output_type": "stream",
          "name": "stdout",
          "text": [
            "test github connetciont\n"
          ]
        }
      ]
    },
    {
      "cell_type": "code",
      "source": [
        "print(1+2+3)"
      ],
      "metadata": {
        "id": "Suo1FTvsKtTe",
        "outputId": "458935ef-339c-4b05-a440-940a2e8da893",
        "colab": {
          "base_uri": "https://localhost:8080/"
        }
      },
      "id": "Suo1FTvsKtTe",
      "execution_count": 1,
      "outputs": [
        {
          "output_type": "stream",
          "name": "stdout",
          "text": [
            "6\n"
          ]
        }
      ]
    },
    {
      "cell_type": "code",
      "source": [
        "from google.colab import drive\n",
        "drive.mount('/content/drive', force_remount=True)"
      ],
      "metadata": {
        "id": "_ZlYCfy2RU4q",
        "outputId": "7214a943-1dd9-48ea-f2dc-69fedf28ded3",
        "colab": {
          "base_uri": "https://localhost:8080/"
        }
      },
      "id": "_ZlYCfy2RU4q",
      "execution_count": 4,
      "outputs": [
        {
          "output_type": "stream",
          "name": "stdout",
          "text": [
            "Mounted at /content/drive\n"
          ]
        }
      ]
    },
    {
      "cell_type": "code",
      "source": [],
      "metadata": {
        "id": "dpZe29AQROh9"
      },
      "id": "dpZe29AQROh9",
      "execution_count": null,
      "outputs": []
    }
  ],
  "metadata": {
    "colab": {
      "provenance": [],
      "include_colab_link": true
    },
    "language_info": {
      "name": "python"
    },
    "kernelspec": {
      "name": "python3",
      "display_name": "Python 3"
    }
  },
  "nbformat": 4,
  "nbformat_minor": 5
}